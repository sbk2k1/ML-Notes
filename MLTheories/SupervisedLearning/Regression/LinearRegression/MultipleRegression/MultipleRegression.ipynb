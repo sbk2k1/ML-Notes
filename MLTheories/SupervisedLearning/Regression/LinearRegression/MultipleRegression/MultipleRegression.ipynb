{
  "nbformat": 4,
  "nbformat_minor": 0,
  "metadata": {
    "colab": {
      "name": "Carvana",
      "provenance": [],
      "collapsed_sections": []
    },
    "kernelspec": {
      "name": "python3",
      "display_name": "Python 3"
    },
    "language_info": {
      "name": "python"
    }
  },
  "cells": [
    {
      "cell_type": "code",
      "metadata": {
        "id": "SvbqmGWXqal8"
      },
      "source": [
        "import matplotlib.pyplot as plt\n",
        "import numpy as np\n",
        "from sklearn import datasets, linear_model\n",
        "from sklearn.metrics import  mean_squared_error"
      ],
      "execution_count": 17,
      "outputs": []
    },
    {
      "cell_type": "code",
      "metadata": {
        "id": "K9Jyp9kc5HTQ",
        "colab": {
          "base_uri": "https://localhost:8080/"
        },
        "outputId": "3f32f10c-630c-4454-f3d8-d540ea0ef8b1"
      },
      "source": [
        "diabetes= datasets.load_diabetes()\n",
        "print(diabetes.keys())"
      ],
      "execution_count": 2,
      "outputs": [
        {
          "output_type": "stream",
          "name": "stdout",
          "text": [
            "dict_keys(['data', 'target', 'DESCR', 'feature_names', 'data_filename', 'target_filename'])\n"
          ]
        }
      ]
    },
    {
      "cell_type": "code",
      "metadata": {
        "colab": {
          "base_uri": "https://localhost:8080/"
        },
        "id": "TzF_rel03wbH",
        "outputId": "018a84c6-2a51-4c84-d37d-cb24620ec668"
      },
      "source": [
        "print(diabetes.data)"
      ],
      "execution_count": 3,
      "outputs": [
        {
          "output_type": "stream",
          "name": "stdout",
          "text": [
            "[[ 0.03807591  0.05068012  0.06169621 ... -0.00259226  0.01990842\n",
            "  -0.01764613]\n",
            " [-0.00188202 -0.04464164 -0.05147406 ... -0.03949338 -0.06832974\n",
            "  -0.09220405]\n",
            " [ 0.08529891  0.05068012  0.04445121 ... -0.00259226  0.00286377\n",
            "  -0.02593034]\n",
            " ...\n",
            " [ 0.04170844  0.05068012 -0.01590626 ... -0.01107952 -0.04687948\n",
            "   0.01549073]\n",
            " [-0.04547248 -0.04464164  0.03906215 ...  0.02655962  0.04452837\n",
            "  -0.02593034]\n",
            " [-0.04547248 -0.04464164 -0.0730303  ... -0.03949338 -0.00421986\n",
            "   0.00306441]]\n"
          ]
        }
      ]
    },
    {
      "cell_type": "code",
      "metadata": {
        "colab": {
          "base_uri": "https://localhost:8080/"
        },
        "id": "W_c84d-T34le",
        "outputId": "6ba122e8-5f6b-45b5-8553-7329d452f3f2"
      },
      "source": [
        "print(diabetes.DESCR)"
      ],
      "execution_count": 5,
      "outputs": [
        {
          "output_type": "stream",
          "name": "stdout",
          "text": [
            ".. _diabetes_dataset:\n",
            "\n",
            "Diabetes dataset\n",
            "----------------\n",
            "\n",
            "Ten baseline variables, age, sex, body mass index, average blood\n",
            "pressure, and six blood serum measurements were obtained for each of n =\n",
            "442 diabetes patients, as well as the response of interest, a\n",
            "quantitative measure of disease progression one year after baseline.\n",
            "\n",
            "**Data Set Characteristics:**\n",
            "\n",
            "  :Number of Instances: 442\n",
            "\n",
            "  :Number of Attributes: First 10 columns are numeric predictive values\n",
            "\n",
            "  :Target: Column 11 is a quantitative measure of disease progression one year after baseline\n",
            "\n",
            "  :Attribute Information:\n",
            "      - Age\n",
            "      - Sex\n",
            "      - Body mass index\n",
            "      - Average blood pressure\n",
            "      - S1\n",
            "      - S2\n",
            "      - S3\n",
            "      - S4\n",
            "      - S5\n",
            "      - S6\n",
            "\n",
            "Note: Each of these 10 feature variables have been mean centered and scaled by the standard deviation times `n_samples` (i.e. the sum of squares of each column totals 1).\n",
            "\n",
            "Source URL:\n",
            "https://www4.stat.ncsu.edu/~boos/var.select/diabetes.html\n",
            "\n",
            "For more information see:\n",
            "Bradley Efron, Trevor Hastie, Iain Johnstone and Robert Tibshirani (2004) \"Least Angle Regression,\" Annals of Statistics (with discussion), 407-499.\n",
            "(https://web.stanford.edu/~hastie/Papers/LARS/LeastAngle_2002.pdf)\n"
          ]
        }
      ]
    },
    {
      "cell_type": "code",
      "metadata": {
        "colab": {
          "base_uri": "https://localhost:8080/"
        },
        "id": "ZZURlpyp3-5u",
        "outputId": "2c9f3016-0eea-43df-d617-b51cb189f82d"
      },
      "source": [
        "diabetes_X= diabetes.data # takes all features, hence this is Multiple Regression\n",
        "print(diabetes_X)"
      ],
      "execution_count": 20,
      "outputs": [
        {
          "output_type": "stream",
          "name": "stdout",
          "text": [
            "[[ 0.03807591  0.05068012  0.06169621 ... -0.00259226  0.01990842\n",
            "  -0.01764613]\n",
            " [-0.00188202 -0.04464164 -0.05147406 ... -0.03949338 -0.06832974\n",
            "  -0.09220405]\n",
            " [ 0.08529891  0.05068012  0.04445121 ... -0.00259226  0.00286377\n",
            "  -0.02593034]\n",
            " ...\n",
            " [ 0.04170844  0.05068012 -0.01590626 ... -0.01107952 -0.04687948\n",
            "   0.01549073]\n",
            " [-0.04547248 -0.04464164  0.03906215 ...  0.02655962  0.04452837\n",
            "  -0.02593034]\n",
            " [-0.04547248 -0.04464164 -0.0730303  ... -0.03949338 -0.00421986\n",
            "   0.00306441]]\n"
          ]
        }
      ]
    },
    {
      "cell_type": "code",
      "metadata": {
        "id": "JV4qVssX4wne"
      },
      "source": [
        "diabetes_X_train = diabetes_X[:-30]\n",
        "diabetes_X_test = diabetes_X[-30:]\n",
        "\n",
        "diabetes_y_train = diabetes.target[:-30]\n",
        "diabetes_y_test = diabetes.target[-30:]\n",
        "\n",
        "model = linear_model.LinearRegression()"
      ],
      "execution_count": 21,
      "outputs": []
    },
    {
      "cell_type": "code",
      "metadata": {
        "colab": {
          "base_uri": "https://localhost:8080/"
        },
        "id": "cX_eRUuU5rk1",
        "outputId": "774f2953-db7c-42d6-9741-fee1fa815518"
      },
      "source": [
        "model.fit(diabetes_X_train, diabetes_y_train)"
      ],
      "execution_count": 22,
      "outputs": [
        {
          "output_type": "execute_result",
          "data": {
            "text/plain": [
              "LinearRegression(copy_X=True, fit_intercept=True, n_jobs=None, normalize=False)"
            ]
          },
          "metadata": {},
          "execution_count": 22
        }
      ]
    },
    {
      "cell_type": "code",
      "metadata": {
        "id": "gZGT8Wmb54yG"
      },
      "source": [
        "diabetes_y_predicted= model.predict(diabetes_X_test)"
      ],
      "execution_count": 23,
      "outputs": []
    },
    {
      "cell_type": "code",
      "metadata": {
        "colab": {
          "base_uri": "https://localhost:8080/"
        },
        "id": "s3_ah3hX6IAu",
        "outputId": "c8405c0a-8ff9-4aa9-83eb-35c41c5bfdd4"
      },
      "source": [
        "print(\"Mean squared error is: \", mean_squared_error(diabetes_y_test, diabetes_y_predicted))\n",
        "\n",
        "print(\"Weights: \", model.coef_)\n",
        "print(\"Intercept: \", model.intercept_)"
      ],
      "execution_count": 25,
      "outputs": [
        {
          "output_type": "stream",
          "name": "stdout",
          "text": [
            "Mean squared error is:  1826.5364191345423\n",
            "Weights:  [  -1.16924976 -237.18461486  518.30606657  309.04865826 -763.14121622\n",
            "  458.90999325   80.62441437  174.32183366  721.49712065   79.19307944]\n",
            "Intercept:  153.05827988224112\n"
          ]
        }
      ]
    }
  ]
}